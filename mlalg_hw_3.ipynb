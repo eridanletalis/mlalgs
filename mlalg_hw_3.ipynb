{
 "cells": [
  {
   "cell_type": "code",
   "execution_count": 1,
   "metadata": {
    "colab": {},
    "colab_type": "code",
    "id": "H5Yw3qSQqj6x"
   },
   "outputs": [],
   "source": [
    "import numpy as np\n",
    "import matplotlib.pyplot as plt\n"
   ]
  },
  {
   "cell_type": "markdown",
   "metadata": {
    "colab_type": "text",
    "id": "j8aZvTlQqkyE"
   },
   "source": [
    "1*. Измените функцию calc_logloss так, чтобы нули по возможности не попадали в np.log.  \n",
    "2. Подберите аргументы функции eval_model для логистической регрессии таким образом, чтобы log loss был минимальным.\n",
    "3. Создайте функцию calc_pred_proba, возвращающую предсказанную вероятность класса 1 (на вход подаются W, который уже посчитан функцией eval_model и X, на выходе - массив y_pred_proba).\n",
    "4. Создайте функцию calc_pred, возвращающую предсказанный класс (на вход подаются W, который уже посчитан функцией eval_model и X, на выходе - массив y_pred).\n",
    "5. Посчитайте Accuracy, матрицу ошибок, точность и полноту, а также F1 score.\n",
    "6. Могла ли модель переобучиться? Почему?\n",
    "7*. Создайте функции eval_model_l1 и eval_model_l2 с применением L1 и L2 регуляризаций соответственно."
   ]
  },
  {
   "cell_type": "code",
   "execution_count": 2,
   "metadata": {
    "colab": {},
    "colab_type": "code",
    "id": "LSrL9s3lqlHZ"
   },
   "outputs": [],
   "source": [
    "X = np.array([[1, 1, 1, 1, 1, 1, 1, 1, 1, 1],\n",
    "              [1, 1, 2, 1, 3, 0, 5, 10, 1, 2],\n",
    "              [500, 700, 750, 600, 1450,\n",
    "               800, 1500, 2000, 450, 1000],\n",
    "              [1, 1, 2, 1, 2, \n",
    "               1, 3, 3, 1, 2]], dtype = np.float64)\n",
    "y = np.array([0, 0, 1, 0, 1, 0, 1, 0, 1, 1], dtype = np.float64)"
   ]
  },
  {
   "cell_type": "code",
   "execution_count": 3,
   "metadata": {
    "colab": {},
    "colab_type": "code",
    "id": "s4oaOr8XqtIT"
   },
   "outputs": [],
   "source": [
    "def calc_std_feat(x):\n",
    "  res = (x - x.mean()) / x.std()\n",
    "  return res"
   ]
  },
  {
   "cell_type": "code",
   "execution_count": null,
   "metadata": {
    "colab": {},
    "colab_type": "code",
    "id": "uSSC2KPxrH7M"
   },
   "outputs": [],
   "source": []
  },
  {
   "cell_type": "code",
   "execution_count": 4,
   "metadata": {
    "colab": {},
    "colab_type": "code",
    "id": "D8EL0iGJOVpe"
   },
   "outputs": [],
   "source": [
    "X_st = X.copy()\n",
    "X_st[2, :] = calc_std_feat(X[2, :])"
   ]
  },
  {
   "cell_type": "markdown",
   "metadata": {
    "colab_type": "text",
    "id": "6TTud-qJ-yCu"
   },
   "source": [
    "**Делаем функцию calc_logloss невосприимчивой к нулям под знаком логарифма**\n",
    "\n",
    "---\n",
    "\n"
   ]
  },
  {
   "cell_type": "code",
   "execution_count": 5,
   "metadata": {
    "colab": {},
    "colab_type": "code",
    "id": "mv2tUAoTqwhc"
   },
   "outputs": [],
   "source": [
    "def calc_logloss(y, y_pred):\n",
    "\n",
    "  # На время отладки конвертируем y_pred во флоат принудительно\n",
    "\n",
    "  y_pred = y_pred.astype(float)\n",
    "  \n",
    "  a = np.where(y_pred == 0.0) # Ищем индексы элементов со значением ноль\n",
    "  b = np.where(y_pred == 1.0) # Ищем индексы элементов со значением 1\n",
    "\n",
    "  y_pred[a] += np.finfo(np.float).eps # Прибавляем к нулям машинную эпсилон\n",
    "  y_pred[b] -= np.finfo(np.float).eps # Отнимаем от единиц машинную эпсилон\n",
    "\n",
    "  # Теперь под знаком логарифма гарантированно отсутствует ноль.\n",
    "\n",
    "  err = - np.mean(y * np.log(y_pred) + (1.0 - y) * np.log(1.0 - y_pred))\n",
    "  return err"
   ]
  },
  {
   "cell_type": "code",
   "execution_count": 6,
   "metadata": {
    "colab": {
     "base_uri": "https://localhost:8080/",
     "height": 35
    },
    "colab_type": "code",
    "id": "4GtmcZuyqzlo",
    "outputId": "7153c6f8-8780-4c48-c5a0-a1ddcb9c0f3c"
   },
   "outputs": [
    {
     "data": {
      "text/plain": [
       "3.604365338911715"
      ]
     },
     "execution_count": 6,
     "metadata": {},
     "output_type": "execute_result"
    }
   ],
   "source": [
    "# Поменяем местоми y1 и y1_pred, чтобы в функцию попали нули и единицы\n",
    "y1 = np.array([1, 0, 0, 1])\n",
    "y_pred1 = np.array([0.9, 0.1, 0.1, 0.9])\n",
    "calc_logloss(y_pred1, y1)\n",
    "\n",
    "# До изменения ответом была + бесконечность"
   ]
  },
  {
   "cell_type": "code",
   "execution_count": null,
   "metadata": {
    "colab": {},
    "colab_type": "code",
    "id": "c4nCxDML2eyb"
   },
   "outputs": [],
   "source": []
  },
  {
   "cell_type": "code",
   "execution_count": 7,
   "metadata": {
    "colab": {
     "base_uri": "https://localhost:8080/",
     "height": 35
    },
    "colab_type": "code",
    "id": "nL94lyUE-gE7",
    "outputId": "bd105805-90b8-4ae2-eadb-bb528d11982c"
   },
   "outputs": [
    {
     "data": {
      "text/plain": [
       "0.10536051565782628"
      ]
     },
     "execution_count": 7,
     "metadata": {},
     "output_type": "execute_result"
    }
   ],
   "source": [
    "y1 = np.array([1, 0])\n",
    "y_pred1 = np.array([0.9, 0.1])\n",
    "calc_logloss(y1, y_pred1)\n",
    "\n",
    "# Работа в штатном режиме (без нулей) не пострадала"
   ]
  },
  {
   "cell_type": "code",
   "execution_count": 8,
   "metadata": {
    "colab": {},
    "colab_type": "code",
    "id": "LQTK08Jnq0BR"
   },
   "outputs": [],
   "source": [
    "def sigmoid(z):\n",
    "  res = 1 / (1 + np.exp(-z))\n",
    "  return res"
   ]
  },
  {
   "cell_type": "code",
   "execution_count": 9,
   "metadata": {
    "colab": {
     "base_uri": "https://localhost:8080/",
     "height": 237
    },
    "colab_type": "code",
    "id": "MMhucmTpq1tP",
    "outputId": "925e504f-ed88-40ef-d0f5-61f0899b1e4f"
   },
   "outputs": [
    {
     "data": {
      "text/plain": [
       "array([-10. ,  -9.8,  -9.6,  -9.4,  -9.2,  -9. ,  -8.8,  -8.6,  -8.4,\n",
       "        -8.2,  -8. ,  -7.8,  -7.6,  -7.4,  -7.2,  -7. ,  -6.8,  -6.6,\n",
       "        -6.4,  -6.2,  -6. ,  -5.8,  -5.6,  -5.4,  -5.2,  -5. ,  -4.8,\n",
       "        -4.6,  -4.4,  -4.2,  -4. ,  -3.8,  -3.6,  -3.4,  -3.2,  -3. ,\n",
       "        -2.8,  -2.6,  -2.4,  -2.2,  -2. ,  -1.8,  -1.6,  -1.4,  -1.2,\n",
       "        -1. ,  -0.8,  -0.6,  -0.4,  -0.2,   0. ,   0.2,   0.4,   0.6,\n",
       "         0.8,   1. ,   1.2,   1.4,   1.6,   1.8,   2. ,   2.2,   2.4,\n",
       "         2.6,   2.8,   3. ,   3.2,   3.4,   3.6,   3.8,   4. ,   4.2,\n",
       "         4.4,   4.6,   4.8,   5. ,   5.2,   5.4,   5.6,   5.8,   6. ,\n",
       "         6.2,   6.4,   6.6,   6.8,   7. ,   7.2,   7.4,   7.6,   7.8,\n",
       "         8. ,   8.2,   8.4,   8.6,   8.8,   9. ,   9.2,   9.4,   9.6,\n",
       "         9.8,  10. ])"
      ]
     },
     "execution_count": 9,
     "metadata": {},
     "output_type": "execute_result"
    }
   ],
   "source": [
    "z = np.linspace(-10, 10, 101)\n",
    "z"
   ]
  },
  {
   "cell_type": "code",
   "execution_count": 10,
   "metadata": {
    "colab": {},
    "colab_type": "code",
    "id": "AwrNNOUnq3hg"
   },
   "outputs": [],
   "source": [
    "### Logistic Regression\n",
    "\n",
    "def eval_model(X, y, iterations, alpha=1e-4):\n",
    "  np.random.seed(42)\n",
    "  W = np.random.randn(X.shape[0])\n",
    "  n = X.shape[1]\n",
    "  for i in range(1, iterations+1):\n",
    "    z = np.dot(W, X)\n",
    "    y_pred = sigmoid(z)\n",
    "    err = calc_logloss(y, y_pred)\n",
    "    W -= alpha * (1/n * np.dot((y_pred - y), X.T))\n",
    "    if i % (iterations / 10) == 0:\n",
    "      print(i, W, err)\n",
    "  return W\n",
    "  "
   ]
  },
  {
   "cell_type": "code",
   "execution_count": 11,
   "metadata": {
    "colab": {
     "base_uri": "https://localhost:8080/",
     "height": 201
    },
    "colab_type": "code",
    "id": "KkGgVnWIq8vE",
    "outputId": "447c8eed-5e7f-4301-af08-3823909c6b9f"
   },
   "outputs": [
    {
     "name": "stdout",
     "output_type": "stream",
     "text": [
      "100 [ 0.49282748 -0.15007528  0.64748973  1.51727915] 1.2014814214705334\n",
      "200 [ 0.48896219 -0.16184918  0.64728128  1.51155738] 1.1828456288538924\n",
      "300 [ 0.48511874 -0.17358386  0.64706349  1.50586552] 1.1643525542846553\n",
      "400 [ 0.4812976  -0.18527698  0.64683669  1.50020462] 1.1460086359433084\n",
      "500 [ 0.47749927 -0.19692597  0.64660127  1.4945758 ] 1.127820879406358\n",
      "600 [ 0.47372426 -0.20852799  0.6463577   1.48898028] 1.109796908143704\n",
      "700 [ 0.46997312 -0.22007992  0.6461065   1.48341934] 1.0919450148769096\n",
      "800 [ 0.46624642 -0.23157833  0.64584825  1.47789438] 1.074274212586137\n",
      "900 [ 0.46254476 -0.24301946  0.64558365  1.4724069 ] 1.0567942835649755\n",
      "1000 [ 0.45886878 -0.25439917  0.64531344  1.46695851] 1.0395158244739489\n"
     ]
    }
   ],
   "source": [
    "W = eval_model(X_st, y, iterations=1000, alpha=1e-4)"
   ]
  },
  {
   "cell_type": "markdown",
   "metadata": {
    "colab_type": "text",
    "id": "5pRgUvtBEQXW"
   },
   "source": [
    "**Подбор параметров логистической регрессии**\n",
    "\n",
    "---\n",
    "\n"
   ]
  },
  {
   "cell_type": "code",
   "execution_count": 12,
   "metadata": {
    "colab": {},
    "colab_type": "code",
    "id": "Zo7-fRuOEOqB"
   },
   "outputs": [],
   "source": [
    "### Logistic Regression\n",
    "\n",
    "eps = 1e-5\n",
    "max_iteration = int(1e+6)\n",
    "alpha_stack = np.array([1000 / x for x in range(1, 10001)])\n",
    "\n",
    "\n",
    "\n",
    "def eval_model_epic_test(X, y):\n",
    "  Ws = []\n",
    "  losses = []\n",
    "  iterations = []\n",
    "  \n",
    "  for alpha in alpha_stack:\n",
    "    last_err = np.inf\n",
    "    np.random.seed(42)\n",
    "    W = np.random.randn(X.shape[0])\n",
    "    n = X.shape[1]\n",
    "\n",
    "    for i in range(1, max_iteration+1):\n",
    "      z = np.dot(W, X)\n",
    "      y_pred = sigmoid(z)\n",
    "      err = calc_logloss(y, y_pred)\n",
    "      W -= alpha * (1/n * np.dot((y_pred - y), X.T))\n",
    "\n",
    "      # if i % (100) == 0:\n",
    "      #   print(i, W, err, alpha)\n",
    "\n",
    "      if np.abs(err - last_err) < eps:\n",
    "        break\n",
    "      \n",
    "      last_err = err\n",
    "\n",
    "      \n",
    "    # print(f\"Подбор завершился при альфа {alpha} на итерации {i}, значение функции потерь {err}.\")\n",
    "    # print(W)\n",
    "\n",
    "   \n",
    "    Ws.append(W)\n",
    "    losses.append(err)\n",
    "    iterations.append(i)\n",
    "  print(f\"Алгоритм успешно завершён. Обработано {len(losses)} значений.\")\n",
    "  return Ws, losses, iterations\n",
    "  "
   ]
  },
  {
   "cell_type": "code",
   "execution_count": 13,
   "metadata": {
    "colab": {
     "base_uri": "https://localhost:8080/",
     "height": 1000
    },
    "colab_type": "code",
    "id": "vYMaGtLeP_DT",
    "outputId": "40f52b12-00fc-46bb-a608-d36c2a790fa9"
   },
   "outputs": [
    {
     "name": "stdout",
     "output_type": "stream",
     "text": [
      "Алгоритм успешно завершён. Обработано 10000 значений.\n"
     ]
    }
   ],
   "source": [
    "Ws, losses, iterations = eval_model_epic_test(X_st, y)"
   ]
  },
  {
   "cell_type": "markdown",
   "metadata": {
    "colab_type": "text",
    "id": "SFCH_7RfZYLw"
   },
   "source": [
    "**Реализация функций, возвращающих предсказание в виде вероятности и в виде класса**\n",
    "\n",
    "---\n",
    "\n"
   ]
  },
  {
   "cell_type": "code",
   "execution_count": 14,
   "metadata": {
    "colab": {},
    "colab_type": "code",
    "id": "SKRutCb-GlLJ"
   },
   "outputs": [],
   "source": [
    "def calc_pred_proba(W, X):\n",
    "  return sigmoid(W@X).flatten()\n",
    "\n",
    "def calc_pred(W, X, thres=0.8):\n",
    "  return ((calc_pred_proba(W,X) - thres) >= 0).astype(float)"
   ]
  },
  {
   "cell_type": "code",
   "execution_count": 15,
   "metadata": {
    "colab": {
     "base_uri": "https://localhost:8080/",
     "height": 35
    },
    "colab_type": "code",
    "id": "cscWXjj-WsNK",
    "outputId": "bc62e868-d0bb-4f7b-9535-2d1273072fa3"
   },
   "outputs": [
    {
     "data": {
      "text/plain": [
       "array([0., 0., 1., 0., 1., 0., 1., 0., 0., 1.])"
      ]
     },
     "execution_count": 15,
     "metadata": {},
     "output_type": "execute_result"
    }
   ],
   "source": [
    "losses = np.array(losses)\n",
    "iterations = np.array(iterations)\n",
    "calc_pred(Ws[99], X_st)"
   ]
  },
  {
   "cell_type": "code",
   "execution_count": 16,
   "metadata": {
    "colab": {},
    "colab_type": "code",
    "id": "aswtXllQpXOK"
   },
   "outputs": [],
   "source": [
    "min_loss = losses.min()\n",
    "min_alpha_l = alpha_stack[np.where(losses == min_loss)]\n"
   ]
  },
  {
   "cell_type": "code",
   "execution_count": null,
   "metadata": {
    "colab": {
     "base_uri": "https://localhost:8080/",
     "height": 35
    },
    "colab_type": "code",
    "id": "wenIsbf2lidw",
    "outputId": "fa8dd225-7c26-4291-b494-3dfe748fb3aa"
   },
   "outputs": [],
   "source": []
  },
  {
   "cell_type": "code",
   "execution_count": 17,
   "metadata": {
    "colab": {
     "base_uri": "https://localhost:8080/",
     "height": 422
    },
    "colab_type": "code",
    "id": "6_-vil_sFGXn",
    "outputId": "f1e0f2fa-8469-492e-e71f-c54dbf092cfe"
   },
   "outputs": [
    {
     "data": {
      "text/plain": [
       "<matplotlib.legend.Legend at 0x184883a2988>"
      ]
     },
     "execution_count": 17,
     "metadata": {},
     "output_type": "execute_result"
    },
    {
     "data": {
      "image/png": "[encoded data removed]",
      "text/plain": [
       "<Figure size 1728x432 with 2 Axes>"
      ]
     },
     "metadata": {
      "needs_background": "light"
     },
     "output_type": "display_data"
    }
   ],
   "source": [
    "fig, ax = plt.subplots(1,2, figsize=(24,6))\n",
    "\n",
    "ax[0].set_title(\"Зависимость функции потерь от коэффициента обучения\")\n",
    "ax[0].plot(alpha_stack, losses, alpha=0.5, label=\"Значения функции потерь\")\n",
    "ax[0].scatter(min_alpha_l ,min_loss, \n",
    "              color='red',\n",
    "              marker='o', \n",
    "              label=\"Минимальное значение функции потерь\")\n",
    "ax[0].set_xlabel(\"Коэффициент обучения\")\n",
    "ax[0].set_ylabel(\"Значение logloss\")\n",
    "ax[0].legend()\n",
    "ax[1].set_title(\"Зависимость количества итераций от коэффициента обучения\")\n",
    "ax[1].plot(alpha_stack, iterations, alpha=0.5, label=\"Количество итераций\")\n",
    "\n",
    "ax[1].set_xlabel(\"Коэффициент обучения\")\n",
    "ax[1].set_ylabel(\"Число итераций\")\n",
    "ax[1].legend()\n"
   ]
  },
  {
   "cell_type": "code",
   "execution_count": 18,
   "metadata": {
    "colab": {
     "base_uri": "https://localhost:8080/",
     "height": 35
    },
    "colab_type": "code",
    "id": "uNmlKEz-5KCe",
    "outputId": "f37ffbb0-7f2b-4d3f-88be-b25a092f5ed0"
   },
   "outputs": [
    {
     "data": {
      "text/plain": [
       "array([-123.98897193,  -13.64330215,  -34.3964024 ,  102.20897474])"
      ]
     },
     "execution_count": 18,
     "metadata": {},
     "output_type": "execute_result"
    }
   ],
   "source": [
    "Ws[55]"
   ]
  },
  {
   "cell_type": "code",
   "execution_count": 19,
   "metadata": {
    "colab": {
     "base_uri": "https://localhost:8080/",
     "height": 35
    },
    "colab_type": "code",
    "id": "FECeR8xwmHm2",
    "outputId": "52b685b5-4370-497d-c49a-0a6ff80a75d2"
   },
   "outputs": [
    {
     "data": {
      "text/plain": [
       "array([0., 0., 1., 0., 1., 0., 1., 0., 1., 1.])"
      ]
     },
     "execution_count": 19,
     "metadata": {},
     "output_type": "execute_result"
    }
   ],
   "source": [
    "calc_pred(Ws[55], X_st)"
   ]
  },
  {
   "cell_type": "code",
   "execution_count": 20,
   "metadata": {
    "colab": {
     "base_uri": "https://localhost:8080/",
     "height": 35
    },
    "colab_type": "code",
    "id": "OhjVCnubJ8ml",
    "outputId": "61d48e31-f475-456a-f1f2-785b56b1ac2b"
   },
   "outputs": [
    {
     "data": {
      "text/plain": [
       "array([0., 0., 1., 0., 1., 0., 1., 0., 1., 1.])"
      ]
     },
     "execution_count": 20,
     "metadata": {},
     "output_type": "execute_result"
    }
   ],
   "source": [
    "y"
   ]
  },
  {
   "cell_type": "markdown",
   "metadata": {
    "colab_type": "text",
    "id": "gYpXehK3mb2E"
   },
   "source": [
    "По итогу аналази работы функций и возвращаемых значений можно сделать вывод, что на предлагаемом наборе данных метод склонен к переобучению. Не смотря на минимальные значения функции потерь, значения коэффициентов при этом очень большие и ожидается, что на тестовых данных модель выдаст плохой результат.\n",
    "Таким образом, можно говорить о переобучении модели."
   ]
  },
  {
   "cell_type": "markdown",
   "metadata": {
    "colab_type": "text",
    "id": "HTUlMnmvmsti"
   },
   "source": [
    "**Метрики**\n",
    "\n",
    "\n",
    "---\n",
    "\n"
   ]
  },
  {
   "cell_type": "code",
   "execution_count": 21,
   "metadata": {
    "colab": {},
    "colab_type": "code",
    "id": "DfjTCnBCn3jz"
   },
   "outputs": [],
   "source": [
    "def metrics(y, y_pred):\n",
    "\n",
    "# дополнительные переменные создаются для наглядности. \n",
    "# в другой ситуции обошлись бы только матрицей\n",
    "\n",
    "  tp = 0\n",
    "  tn = 0\n",
    "  fp = 0\n",
    "  fn = 0\n",
    "  # conf = np.zeros((2,2))  # (0,0) - TP, (0, 1) - FP, (1, 0) - TN, (1, 1) - FN\n",
    "\n",
    "  for i in range(len(y)):\n",
    "    if y[i] == 1 and y[i] == y_pred[i]:\n",
    "      tp += 1\n",
    "    if y[i] == 1 and y[i] != y_pred[i]:\n",
    "      fn += 1\n",
    "    if y[i] == 0 and y[i] == y_pred[i]:\n",
    "      tn += 1\n",
    "    if y[i] == 0 and y[i] != y_pred[i]:\n",
    "      fp += 1\n",
    "\n",
    "  conf = np.array([[tp, fp], [fp, tn]]) #  confusion matrix \n",
    "\n",
    "  # \"Аккуратность\" - доля правильных ответов\n",
    "  accuracy = (tp + tn) / (tp + fp + tn + fn)\n",
    "  # Точность - доля правильного выбора класса 1 к общему количеству\n",
    "  # выборов класса 1\n",
    "  precision = (tp) / (tp + fp)\n",
    "  # Полнота - доля правильного выбора класса 1 к общему количеству\n",
    "  # объектов этого класса\n",
    "  recall = (tp) / (tp + fn)\n",
    "  f1 = (precision * recall) / (precision + recall)\n",
    "\n",
    "  metrics = {\"accuracy\":accuracy, \"precision\":precision, \n",
    "             \"recall\":recall, \"f1_score\":f1}\n",
    "\n",
    "  return conf, metrics\n"
   ]
  },
  {
   "cell_type": "code",
   "execution_count": 22,
   "metadata": {
    "colab": {
     "base_uri": "https://localhost:8080/",
     "height": 72
    },
    "colab_type": "code",
    "id": "K3M-FPD_r-W8",
    "outputId": "29c9edd3-08ec-44d4-bd3d-5ed4fcf1cf52"
   },
   "outputs": [
    {
     "name": "stdout",
     "output_type": "stream",
     "text": [
      "[[5 0]\n",
      " [0 5]]\n",
      "{'accuracy': 1.0, 'precision': 1.0, 'recall': 1.0, 'f1_score': 0.5}\n"
     ]
    }
   ],
   "source": [
    "conf, metrics = metrics(y, calc_pred(Ws[55], X_st))\n",
    "print(conf)\n",
    "print(metrics)"
   ]
  },
  {
   "cell_type": "markdown",
   "metadata": {
    "colab_type": "text",
    "id": "AA3WS2l1sHNl"
   },
   "source": [
    "**Логистическая регрессия с регуляризацией**\n",
    "\n",
    "\n",
    "---\n",
    "\n"
   ]
  },
  {
   "cell_type": "code",
   "execution_count": 23,
   "metadata": {
    "colab": {},
    "colab_type": "code",
    "id": "xEI9xeoTsL5w"
   },
   "outputs": [],
   "source": [
    "### Logistic Regression\n",
    "\n",
    "eps = 1e-5\n",
    "max_iteration = int(1e+6)\n",
    "alpha_stack = np.array([100 / x for x in range(1, 10001)])\n",
    "\n",
    "\n",
    "\n",
    "def eval_model_epic_test_with_LX(X, y, regularisation=1, lambda_=1e-4):\n",
    "  Ws = []\n",
    "  losses = []\n",
    "  iterations = []\n",
    "  \n",
    "  for alpha in alpha_stack:\n",
    "    last_err = np.inf\n",
    "    np.random.seed(42)\n",
    "    W = np.random.randn(X.shape[0])\n",
    "    n = X.shape[1]\n",
    "\n",
    "    for i in range(1, max_iteration+1):\n",
    "      z = np.dot(W, X)\n",
    "      y_pred = sigmoid(z)\n",
    "      err = calc_logloss(y, y_pred)\n",
    "      if regularisation == 0:\n",
    "        W -= alpha * (1/n * np.dot((y_pred - y), X.T))\n",
    "      elif regularisation == 1:\n",
    "        W -= alpha * (1/n * np.dot((y_pred - y), X.T)) + lambda_ * np.sign(W)/2\n",
    "      else:\n",
    "        W -= alpha * (1/n * np.dot((y_pred - y), X.T)) +  lambda_ * W\n",
    "\n",
    "      # if i % (100) == 0:\n",
    "      #   print(i, W, err, alpha)\n",
    "\n",
    "      if np.abs(err - last_err) < eps:\n",
    "        break\n",
    "      \n",
    "      last_err = err\n",
    "      \n",
    "    # print(f\"Подбор завершился при альфа {alpha} на итерации {i}, значение функции потерь {err}.\")\n",
    "    # print(W)\n",
    "\n",
    "   \n",
    "    Ws.append(W)\n",
    "    losses.append(err)\n",
    "    iterations.append(i)\n",
    "  print(f\"Алгоритм успешно завершён. Обработано {len(losses)} значений.\")\n",
    "  return Ws, losses, iterations"
   ]
  },
  {
   "cell_type": "code",
   "execution_count": 24,
   "metadata": {
    "colab": {
     "base_uri": "https://localhost:8080/",
     "height": 1000
    },
    "colab_type": "code",
    "id": "La9B8Breu9F5",
    "outputId": "095cadc9-3091-4ede-e162-cec82e7f3a08"
   },
   "outputs": [
    {
     "name": "stdout",
     "output_type": "stream",
     "text": [
      "Алгоритм успешно завершён. Обработано 10000 значений.\n"
     ]
    }
   ],
   "source": [
    "Ws, losses, iterations = eval_model_epic_test_with_LX(X_st, y)"
   ]
  },
  {
   "cell_type": "code",
   "execution_count": 25,
   "metadata": {
    "colab": {
     "base_uri": "https://localhost:8080/",
     "height": 209
    },
    "colab_type": "code",
    "id": "hfTscrQ1vF44",
    "outputId": "ea31ea86-5263-48aa-8925-1a6b80ed937a"
   },
   "outputs": [
    {
     "data": {
      "text/plain": [
       "array([0., 0., 1., 0., 1., 0., 1., 0., 0., 1.])"
      ]
     },
     "execution_count": 25,
     "metadata": {},
     "output_type": "execute_result"
    }
   ],
   "source": [
    "losses = np.array(losses)\n",
    "iterations = np.array(iterations)\n",
    "calc_pred(Ws[99], X_st)"
   ]
  },
  {
   "cell_type": "code",
   "execution_count": 28,
   "metadata": {},
   "outputs": [],
   "source": [
    "min_loss = losses.min()\n",
    "min_alpha_l = alpha_stack[np.where(losses == min_loss)]"
   ]
  },
  {
   "cell_type": "code",
   "execution_count": 29,
   "metadata": {
    "colab": {},
    "colab_type": "code",
    "id": "9_lHEaJWvJzr"
   },
   "outputs": [
    {
     "data": {
      "text/plain": [
       "<matplotlib.legend.Legend at 0x18488356b88>"
      ]
     },
     "execution_count": 29,
     "metadata": {},
     "output_type": "execute_result"
    },
    {
     "data": {
      "image/png": "[encoded data removed]",
      "text/plain": [
       "<Figure size 1728x432 with 2 Axes>"
      ]
     },
     "metadata": {
      "needs_background": "light"
     },
     "output_type": "display_data"
    }
   ],
   "source": [
    "fig, ax = plt.subplots(1,2, figsize=(24,6))\n",
    "\n",
    "ax[0].set_title(\"Зависимость функции потерь от коэффициента обучения\")\n",
    "ax[0].plot(alpha_stack, losses, alpha=0.5, label=\"Значения функции потерь\")\n",
    "ax[0].scatter(min_alpha_l ,min_loss, \n",
    "              color='red',\n",
    "              marker='o', \n",
    "              label=\"Минимальное значение функции потерь\")\n",
    "ax[0].set_xlabel(\"Коэффициент обучения\")\n",
    "ax[0].set_ylabel(\"Значение logloss\")\n",
    "ax[0].legend()\n",
    "ax[1].set_title(\"Зависимость количества итераций от коэффициента обучения\")\n",
    "ax[1].plot(alpha_stack, iterations, alpha=0.5, label=\"Количество итераций\")\n",
    "\n",
    "ax[1].set_xlabel(\"Коэффициент обучения\")\n",
    "ax[1].set_ylabel(\"Число итераций\")\n",
    "ax[1].legend()"
   ]
  },
  {
   "cell_type": "code",
   "execution_count": null,
   "metadata": {
    "colab": {},
    "colab_type": "code",
    "id": "zLRVAgyTvz-V"
   },
   "outputs": [],
   "source": [
    "conf, metrics = metrics(y, calc_pred(Ws[55], X_st))\n",
    "print(conf)\n",
    "print(metrics)"
   ]
  },
  {
   "cell_type": "code",
   "execution_count": null,
   "metadata": {},
   "outputs": [],
   "source": []
  }
 ],
 "metadata": {
  "colab": {
   "collapsed_sections": [],
   "name": "mlalg_hw_3",
   "provenance": []
  },
  "kernelspec": {
   "display_name": "Python 3",
   "language": "python",
   "name": "python3"
  },
  "language_info": {
   "codemirror_mode": {
    "name": "ipython",
    "version": 3
   },
   "file_extension": ".py",
   "mimetype": "text/x-python",
   "name": "python",
   "nbconvert_exporter": "python",
   "pygments_lexer": "ipython3",
   "version": "3.7.4"
  }
 },
 "nbformat": 4,
 "nbformat_minor": 1
}
