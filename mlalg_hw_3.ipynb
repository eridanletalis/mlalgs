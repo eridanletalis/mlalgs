{
  "nbformat": 4,
  "nbformat_minor": 0,
  "metadata": {
    "colab": {
      "name": "mlalg_hw_3",
      "provenance": [],
      "collapsed_sections": [],
      "authorship_tag": "ABX9TyN3M4f5a17CFcMoKXliNZjI",
      "include_colab_link": true
    },
    "kernelspec": {
      "name": "python3",
      "display_name": "Python 3"
    }
  },
  "cells": [
    {
      "cell_type": "markdown",
      "metadata": {
        "id": "view-in-github",
        "colab_type": "text"
      },
      "source": [
        "<a href=\"https://colab.research.google.com/github/eridanletalis/mlalgs/blob/master/mlalg_hw_3.ipynb\" target=\"_parent\"><img src=\"https://colab.research.google.com/assets/colab-badge.svg\" alt=\"Open In Colab\"/></a>"
      ]
    },
    {
      "cell_type": "code",
      "metadata": {
        "id": "H5Yw3qSQqj6x",
        "colab_type": "code",
        "colab": {}
      },
      "source": [
        "import numpy as np\n",
        "import matplotlib.pyplot as plt\n"
      ],
      "execution_count": 0,
      "outputs": []
    },
    {
      "cell_type": "markdown",
      "metadata": {
        "id": "j8aZvTlQqkyE",
        "colab_type": "text"
      },
      "source": [
        "1*. Измените функцию calc_logloss так, чтобы нули по возможности не попадали в np.log.  \n",
        "2. Подберите аргументы функции eval_model для логистической регрессии таким образом, чтобы log loss был минимальным.\n",
        "3. Создайте функцию calc_pred_proba, возвращающую предсказанную вероятность класса 1 (на вход подаются W, который уже посчитан функцией eval_model и X, на выходе - массив y_pred_proba).\n",
        "4. Создайте функцию calc_pred, возвращающую предсказанный класс (на вход подаются W, который уже посчитан функцией eval_model и X, на выходе - массив y_pred).\n",
        "5. Посчитайте Accuracy, матрицу ошибок, точность и полноту, а также F1 score.\n",
        "6. Могла ли модель переобучиться? Почему?\n",
        "7*. Создайте функции eval_model_l1 и eval_model_l2 с применением L1 и L2 регуляризаций соответственно."
      ]
    },
    {
      "cell_type": "code",
      "metadata": {
        "id": "LSrL9s3lqlHZ",
        "colab_type": "code",
        "colab": {}
      },
      "source": [
        "X = np.array([[1, 1, 1, 1, 1, 1, 1, 1, 1, 1],\n",
        "              [1, 1, 2, 1, 3, 0, 5, 10, 1, 2],\n",
        "              [500, 700, 750, 600, 1450,\n",
        "               800, 1500, 2000, 450, 1000],\n",
        "              [1, 1, 2, 1, 2, \n",
        "               1, 3, 3, 1, 2]], dtype = np.float64)\n",
        "y = np.array([0, 0, 1, 0, 1, 0, 1, 0, 1, 1], dtype = np.float64)"
      ],
      "execution_count": 0,
      "outputs": []
    },
    {
      "cell_type": "code",
      "metadata": {
        "id": "s4oaOr8XqtIT",
        "colab_type": "code",
        "colab": {}
      },
      "source": [
        "def calc_std_feat(x):\n",
        "  res = (x - x.mean()) / x.std()\n",
        "  return res"
      ],
      "execution_count": 0,
      "outputs": []
    },
    {
      "cell_type": "code",
      "metadata": {
        "id": "uSSC2KPxrH7M",
        "colab_type": "code",
        "colab": {}
      },
      "source": [
        ""
      ],
      "execution_count": 0,
      "outputs": []
    },
    {
      "cell_type": "code",
      "metadata": {
        "colab_type": "code",
        "id": "D8EL0iGJOVpe",
        "colab": {}
      },
      "source": [
        "X_st = X.copy()\n",
        "X_st[2, :] = calc_std_feat(X[2, :])"
      ],
      "execution_count": 0,
      "outputs": []
    },
    {
      "cell_type": "markdown",
      "metadata": {
        "id": "6TTud-qJ-yCu",
        "colab_type": "text"
      },
      "source": [
        "**Делаем функцию calc_logloss невосприимчивой к нулям под знаком логарифма**\n",
        "\n",
        "---\n",
        "\n"
      ]
    },
    {
      "cell_type": "code",
      "metadata": {
        "id": "mv2tUAoTqwhc",
        "colab_type": "code",
        "colab": {}
      },
      "source": [
        "def calc_logloss(y, y_pred):\n",
        "\n",
        "  # На время отладки конвертируем y_pred во флоат принудительно\n",
        "\n",
        "  y_pred = y_pred.astype(float)\n",
        "  \n",
        "  a = np.where(y_pred == 0.0) # Ищем индексы элементов со значением ноль\n",
        "  b = np.where(y_pred == 1.0) # Ищем индексы элементов со значением 1\n",
        "\n",
        "  y_pred[a] += np.finfo(np.float).eps # Прибавляем к нулям машинную эпсилон\n",
        "  y_pred[b] -= np.finfo(np.float).eps # Отнимаем от единиц машинную эпсилон\n",
        "\n",
        "  # Теперь под знаком логарифма гарантированно отсутствует ноль.\n",
        "\n",
        "  err = - np.mean(y * np.log(y_pred) + (1.0 - y) * np.log(1.0 - y_pred))\n",
        "  return err"
      ],
      "execution_count": 0,
      "outputs": []
    },
    {
      "cell_type": "code",
      "metadata": {
        "id": "4GtmcZuyqzlo",
        "colab_type": "code",
        "outputId": "f82d1eeb-ed30-4992-94a0-f3e43a327861",
        "colab": {
          "base_uri": "https://localhost:8080/",
          "height": 35
        }
      },
      "source": [
        "# Поменяем местоми y1 и y1_pred, чтобы в функцию попали нули и единицы\n",
        "y1 = np.array([1, 0, 0, 1])\n",
        "y_pred1 = np.array([0.9, 0.1, 0.1, 0.9])\n",
        "calc_logloss(y_pred1, y1)\n",
        "\n",
        "# До изменения ответом была + бесконечность"
      ],
      "execution_count": 9,
      "outputs": [
        {
          "output_type": "execute_result",
          "data": {
            "text/plain": [
              "3.604365338911715"
            ]
          },
          "metadata": {
            "tags": []
          },
          "execution_count": 9
        }
      ]
    },
    {
      "cell_type": "code",
      "metadata": {
        "id": "c4nCxDML2eyb",
        "colab_type": "code",
        "colab": {}
      },
      "source": [
        ""
      ],
      "execution_count": 0,
      "outputs": []
    },
    {
      "cell_type": "code",
      "metadata": {
        "id": "nL94lyUE-gE7",
        "colab_type": "code",
        "outputId": "48fb40ba-0a08-48b7-b466-9c8988022bd8",
        "colab": {
          "base_uri": "https://localhost:8080/",
          "height": 35
        }
      },
      "source": [
        "y1 = np.array([1, 0])\n",
        "y_pred1 = np.array([0.9, 0.1])\n",
        "calc_logloss(y1, y_pred1)\n",
        "\n",
        "# Работа в штатном режиме (без нулей) не пострадала"
      ],
      "execution_count": 10,
      "outputs": [
        {
          "output_type": "execute_result",
          "data": {
            "text/plain": [
              "0.10536051565782628"
            ]
          },
          "metadata": {
            "tags": []
          },
          "execution_count": 10
        }
      ]
    },
    {
      "cell_type": "code",
      "metadata": {
        "id": "LQTK08Jnq0BR",
        "colab_type": "code",
        "colab": {}
      },
      "source": [
        "def sigmoid(z):\n",
        "  res = 1 / (1 + np.exp(-z))\n",
        "  return res"
      ],
      "execution_count": 0,
      "outputs": []
    },
    {
      "cell_type": "code",
      "metadata": {
        "id": "MMhucmTpq1tP",
        "colab_type": "code",
        "outputId": "e190df15-d737-4852-f752-513cbd9fce49",
        "colab": {
          "base_uri": "https://localhost:8080/",
          "height": 237
        }
      },
      "source": [
        "z = np.linspace(-10, 10, 101)\n",
        "z"
      ],
      "execution_count": 12,
      "outputs": [
        {
          "output_type": "execute_result",
          "data": {
            "text/plain": [
              "array([-10. ,  -9.8,  -9.6,  -9.4,  -9.2,  -9. ,  -8.8,  -8.6,  -8.4,\n",
              "        -8.2,  -8. ,  -7.8,  -7.6,  -7.4,  -7.2,  -7. ,  -6.8,  -6.6,\n",
              "        -6.4,  -6.2,  -6. ,  -5.8,  -5.6,  -5.4,  -5.2,  -5. ,  -4.8,\n",
              "        -4.6,  -4.4,  -4.2,  -4. ,  -3.8,  -3.6,  -3.4,  -3.2,  -3. ,\n",
              "        -2.8,  -2.6,  -2.4,  -2.2,  -2. ,  -1.8,  -1.6,  -1.4,  -1.2,\n",
              "        -1. ,  -0.8,  -0.6,  -0.4,  -0.2,   0. ,   0.2,   0.4,   0.6,\n",
              "         0.8,   1. ,   1.2,   1.4,   1.6,   1.8,   2. ,   2.2,   2.4,\n",
              "         2.6,   2.8,   3. ,   3.2,   3.4,   3.6,   3.8,   4. ,   4.2,\n",
              "         4.4,   4.6,   4.8,   5. ,   5.2,   5.4,   5.6,   5.8,   6. ,\n",
              "         6.2,   6.4,   6.6,   6.8,   7. ,   7.2,   7.4,   7.6,   7.8,\n",
              "         8. ,   8.2,   8.4,   8.6,   8.8,   9. ,   9.2,   9.4,   9.6,\n",
              "         9.8,  10. ])"
            ]
          },
          "metadata": {
            "tags": []
          },
          "execution_count": 12
        }
      ]
    },
    {
      "cell_type": "code",
      "metadata": {
        "id": "AwrNNOUnq3hg",
        "colab_type": "code",
        "colab": {}
      },
      "source": [
        "### Logistic Regression\n",
        "\n",
        "def eval_model(X, y, iterations, alpha=1e-4):\n",
        "  np.random.seed(42)\n",
        "  W = np.random.randn(X.shape[0])\n",
        "  n = X.shape[1]\n",
        "  for i in range(1, iterations+1):\n",
        "    z = np.dot(W, X)\n",
        "    y_pred = sigmoid(z)\n",
        "    err = calc_logloss(y, y_pred)\n",
        "    W -= alpha * (1/n * np.dot((y_pred - y), X.T))\n",
        "    if i % (iterations / 10) == 0:\n",
        "      print(i, W, err)\n",
        "  return W\n",
        "  "
      ],
      "execution_count": 0,
      "outputs": []
    },
    {
      "cell_type": "code",
      "metadata": {
        "id": "KkGgVnWIq8vE",
        "colab_type": "code",
        "outputId": "2b60de29-c9dc-414d-a1de-88b63a56fed3",
        "colab": {
          "base_uri": "https://localhost:8080/",
          "height": 201
        }
      },
      "source": [
        "W = eval_model(X_st, y, iterations=1000, alpha=1e-4)"
      ],
      "execution_count": 14,
      "outputs": [
        {
          "output_type": "stream",
          "text": [
            "100 [ 0.49282748 -0.15007528  0.64748973  1.51727915] 1.2014814214705334\n",
            "200 [ 0.48896219 -0.16184918  0.64728128  1.51155738] 1.1828456288538924\n",
            "300 [ 0.48511874 -0.17358386  0.64706349  1.50586552] 1.1643525542846556\n",
            "400 [ 0.4812976  -0.18527698  0.64683669  1.50020462] 1.1460086359433084\n",
            "500 [ 0.47749927 -0.19692597  0.64660127  1.4945758 ] 1.127820879406358\n",
            "600 [ 0.47372426 -0.20852799  0.6463577   1.48898028] 1.109796908143704\n",
            "700 [ 0.46997312 -0.22007992  0.6461065   1.48341934] 1.0919450148769096\n",
            "800 [ 0.46624642 -0.23157833  0.64584825  1.47789438] 1.074274212586137\n",
            "900 [ 0.46254476 -0.24301946  0.64558365  1.4724069 ] 1.0567942835649755\n",
            "1000 [ 0.45886878 -0.25439917  0.64531344  1.46695851] 1.0395158244739489\n"
          ],
          "name": "stdout"
        }
      ]
    },
    {
      "cell_type": "markdown",
      "metadata": {
        "id": "5pRgUvtBEQXW",
        "colab_type": "text"
      },
      "source": [
        "**Подбор параметров логистической регрессии**\n",
        "\n",
        "---\n",
        "\n"
      ]
    },
    {
      "cell_type": "code",
      "metadata": {
        "id": "Zo7-fRuOEOqB",
        "colab_type": "code",
        "colab": {}
      },
      "source": [
        "### Logistic Regression\n",
        "\n",
        "eps = 1e-5\n",
        "max_iteration = int(1e+6)\n",
        "alpha_stack = np.array([100 / x for x in range(1, 101)])\n",
        "\n",
        "\n",
        "\n",
        "def eval_model_epic_test(X, y):\n",
        "  Ws = []\n",
        "  losses = []\n",
        "  iterations = []\n",
        "  \n",
        "  for alpha in alpha_stack:\n",
        "    last_err = np.inf\n",
        "    np.random.seed(42)\n",
        "    W = np.random.randn(X.shape[0])\n",
        "    n = X.shape[1]\n",
        "\n",
        "    for i in range(1, max_iteration+1):\n",
        "      z = np.dot(W, X)\n",
        "      y_pred = sigmoid(z)\n",
        "      err = calc_logloss(y, y_pred)\n",
        "      W -= alpha * (1/n * np.dot((y_pred - y), X.T))\n",
        "\n",
        "      if i % (100) == 0:\n",
        "        print(i, W, err, alpha)\n",
        "\n",
        "      if np.abs(err - last_err) < eps:\n",
        "        break\n",
        "      \n",
        "      last_err = err\n",
        "      \n",
        "    print(f\"Подбор завершился при альфа {alpha} на итерации {i}, значение функции потерь {err}.\")\n",
        "    print(W)\n",
        "\n",
        "   \n",
        "    Ws.append(W)\n",
        "    losses.append(err)\n",
        "    iterations.append(i)\n",
        "\n",
        "  return Ws, losses, iterations\n",
        "  "
      ],
      "execution_count": 0,
      "outputs": []
    },
    {
      "cell_type": "code",
      "metadata": {
        "id": "vYMaGtLeP_DT",
        "colab_type": "code",
        "colab": {
          "base_uri": "https://localhost:8080/",
          "height": 1000
        },
        "outputId": "b53472bb-74f7-4977-bcff-eb84e613a0ac"
      },
      "source": [
        "losses"
      ],
      "execution_count": 36,
      "outputs": [
        {
          "output_type": "execute_result",
          "data": {
            "text/plain": [
              "[0.00018120173599719334,\n",
              " 0.004064787283893942,\n",
              " 0.00682001474491738,\n",
              " 0.040194865441970436,\n",
              " 0.02424977703870723,\n",
              " 0.03555449777537689,\n",
              " 0.11180894753080614,\n",
              " 0.11405113717153947,\n",
              " 0.09767510071531509,\n",
              " 0.0763906110980983,\n",
              " 0.08266881475414481,\n",
              " 0.10230792818872028,\n",
              " 0.09560212443976461,\n",
              " 0.1147079580670386,\n",
              " 0.10839572910972213,\n",
              " 0.11429723095720538,\n",
              " 0.12052149037540094,\n",
              " 0.11740467919203308,\n",
              " 0.12368938469922075,\n",
              " 0.12751914083819188,\n",
              " 0.14519315128777163,\n",
              " 0.1491140497150075,\n",
              " 0.15515041697657875,\n",
              " 0.15038046709784805,\n",
              " 0.16037890627057574,\n",
              " 0.1662908735108748,\n",
              " 0.16081466736702343,\n",
              " 0.17594068010650768,\n",
              " 0.17491604435264113,\n",
              " 0.19674490173422426,\n",
              " 0.14868797786345625,\n",
              " 0.15144964537264285,\n",
              " 0.20865038432429936,\n",
              " 0.15699696880573605,\n",
              " 0.15983351121230263,\n",
              " 0.1626615053791413,\n",
              " 0.16539141040826846,\n",
              " 0.1682667336065239,\n",
              " 0.17110795138225937,\n",
              " 0.17387987962553195,\n",
              " 0.1768007475490531,\n",
              " 0.1796632176198298,\n",
              " 0.18267119539110946,\n",
              " 0.24503340957968928,\n",
              " 0.24730308892194,\n",
              " 0.19150842350299163,\n",
              " 0.1945105643519255,\n",
              " 0.19757813280394054,\n",
              " 0.20064871714406216,\n",
              " 0.20371845969995483,\n",
              " 0.206909615158255,\n",
              " 0.2101588472180957,\n",
              " 0.21330977397879786,\n",
              " 0.2925542153179335,\n",
              " 0.21993653313030767,\n",
              " 0.22325534921718276,\n",
              " 0.2265796125072717,\n",
              " 0.22998973031703537,\n",
              " 0.23353063411483982,\n",
              " 0.2370278777850706,\n",
              " 0.24057949982361376,\n",
              " 0.24407441468316268,\n",
              " 0.24774756200733394,\n",
              " 0.2513463566222877,\n",
              " 0.2550094967238014,\n",
              " 0.25877569353081903,\n",
              " 0.26259691471533964,\n",
              " 0.2661777091336891,\n",
              " 0.2699033550731432,\n",
              " 0.27359846320925907,\n",
              " 0.3245558044462658,\n",
              " 0.2811572559911139,\n",
              " 0.2846922674615028,\n",
              " 0.2881837563098757,\n",
              " 0.2920328697257375,\n",
              " 0.2955072943333389,\n",
              " 0.29889289975419925,\n",
              " 0.3024285481207266,\n",
              " 0.3059608174832702,\n",
              " 0.34196255289545907,\n",
              " 0.31297795561547925,\n",
              " 0.13812100134029048,\n",
              " 0.32008895116861746,\n",
              " 0.35605864004282217,\n",
              " 0.13944607201557457,\n",
              " 0.33050785840592295,\n",
              " 0.3338830951612489,\n",
              " 0.36915556676703215,\n",
              " 0.1411701915304012,\n",
              " 0.3451925270471035,\n",
              " 0.14201145030565582,\n",
              " 0.3526166544483969,\n",
              " 0.1428514674647287,\n",
              " 0.36051156064643547,\n",
              " 0.36416427086555225,\n",
              " 0.1440842299205307,\n",
              " 0.14448261382946903,\n",
              " 0.14488656319454854,\n",
              " 0.145296163842818,\n",
              " 0.14569150037484482]"
            ]
          },
          "metadata": {
            "tags": []
          },
          "execution_count": 36
        }
      ]
    },
    {
      "cell_type": "markdown",
      "metadata": {
        "id": "SFCH_7RfZYLw",
        "colab_type": "text"
      },
      "source": [
        "**Реализация функций, возвращающих предсказание в виде вероятности и в виде класса**\n",
        "\n",
        "---\n",
        "\n"
      ]
    },
    {
      "cell_type": "code",
      "metadata": {
        "id": "SKRutCb-GlLJ",
        "colab_type": "code",
        "colab": {}
      },
      "source": [
        "def calc_pred_proba(W, X):\n",
        "  return sigmoid(W@X).flatten()\n",
        "\n",
        "def calc_pred(W, X, thres=0.8):\n",
        "  return ((calc_pred_proba(W,X) - thres) >= 0).astype(float)"
      ],
      "execution_count": 0,
      "outputs": []
    },
    {
      "cell_type": "code",
      "metadata": {
        "id": "cscWXjj-WsNK",
        "colab_type": "code",
        "colab": {
          "base_uri": "https://localhost:8080/",
          "height": 35
        },
        "outputId": "dd30c385-029f-446d-ff11-822d9279e09d"
      },
      "source": [
        "calc_pred(Ws[99], X_st)"
      ],
      "execution_count": 98,
      "outputs": [
        {
          "output_type": "execute_result",
          "data": {
            "text/plain": [
              "array([0., 0., 1., 0., 1., 0., 1., 0., 0., 1.])"
            ]
          },
          "metadata": {
            "tags": []
          },
          "execution_count": 98
        }
      ]
    },
    {
      "cell_type": "code",
      "metadata": {
        "id": "6_-vil_sFGXn",
        "colab_type": "code",
        "colab": {
          "base_uri": "https://localhost:8080/",
          "height": 297
        },
        "outputId": "96afe7ac-b591-4cee-b07a-8b61a2df8841"
      },
      "source": [
        "plt.plot(alpha_stack, losses, label=\"Значения функции потерь\")\n",
        "plt.xlabel(\"Коэффициент обучения\")\n",
        "plt.ylabel(\"Значение logloss\")\n",
        "plt.legend()"
      ],
      "execution_count": 27,
      "outputs": [
        {
          "output_type": "execute_result",
          "data": {
            "text/plain": [
              "<matplotlib.legend.Legend at 0x7fd7b87622e8>"
            ]
          },
          "metadata": {
            "tags": []
          },
          "execution_count": 27
        },
        {
          "output_type": "display_data",
          "data": {
            "image/png": "[encoded data removed]",
            "text/plain": [
              "<Figure size 432x288 with 1 Axes>"
            ]
          },
          "metadata": {
            "tags": [],
            "needs_background": "light"
          }
        }
      ]
    },
    {
      "cell_type": "code",
      "metadata": {
        "id": "OhjVCnubJ8ml",
        "colab_type": "code",
        "colab": {
          "base_uri": "https://localhost:8080/",
          "height": 297
        },
        "outputId": "2238fc0f-54ec-4dd9-af52-4431fcc308c1"
      },
      "source": [
        "plt.plot(alpha_stack, iterations, label=\"Количество итераций\")\n",
        "plt.xlabel(\"Коэффициент обучения\")\n",
        "plt.ylabel(\"Число итераций\")"
      ],
      "execution_count": 28,
      "outputs": [
        {
          "output_type": "execute_result",
          "data": {
            "text/plain": [
              "Text(0, 0.5, 'Число итераций')"
            ]
          },
          "metadata": {
            "tags": []
          },
          "execution_count": 28
        },
        {
          "output_type": "display_data",
          "data": {
            "image/png": "[encoded data removed]",
            "text/plain": [
              "<Figure size 432x288 with 1 Axes>"
            ]
          },
          "metadata": {
            "tags": [],
            "needs_background": "light"
          }
        }
      ]
    }
  ]
}