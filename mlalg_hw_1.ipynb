{
 "cells": [
  {
   "cell_type": "code",
   "execution_count": 1,
   "metadata": {},
   "outputs": [],
   "source": [
    "import numpy as np\n",
    "import matplotlib.pyplot as plt\n"
   ]
  },
  {
   "cell_type": "code",
   "execution_count": 2,
   "metadata": {},
   "outputs": [],
   "source": [
    "def calc_mse(y, y_pred):\n",
    "  err = np.mean((y - y_pred)**2)\n",
    "  return err\n",
    "\n",
    "def calc_mae(y, y_pred):\n",
    "  err = np.mean(np.abs(y - y_pred))\n",
    "  return err"
   ]
  },
  {
   "cell_type": "code",
   "execution_count": 3,
   "metadata": {},
   "outputs": [],
   "source": [
    "X = np.array([[1, 1, 1, 1, 1, 1, 1, 1, 1, 1],\n",
    "              [1, 1, 2, 1, 3, 0, 5, 10, 1, 2]])\n",
    "y = [45, 55, 50, 59, 65, 35, 75, 80, 50, 60]"
   ]
  },
  {
   "cell_type": "code",
   "execution_count": 43,
   "metadata": {},
   "outputs": [
    {
     "name": "stdout",
     "output_type": "stream",
     "text": [
      "Reached 10000 iterations. Alpha 0.0001 Lost: 176.62240977239327, Previous lost: 176.64959072853722\n",
      "9999 [31.64269117  6.78942579] 176.62240977239327\n",
      "**************************************************\n",
      "Reached stability value of lost function on 4774 iteration. Alpha 0.0012606060606060606, lost: 45.94130655185274\n",
      "4774 [47.14810799  3.92623197] 45.94130655185274\n",
      "**************************************************\n",
      "Reached stability value of lost function on 2614 iteration. Alpha 0.002421212121212121, lost: 45.939477376378655\n",
      "2614 [47.17164873  3.92188499] 45.939477376378655\n",
      "**************************************************\n",
      "Reached stability value of lost function on 1819 iteration. Alpha 0.0035818181818181812, lost: 45.93883068655932\n",
      "1819 [47.18257722  3.91986696] 45.93883068655932\n",
      "**************************************************\n",
      "Reached stability value of lost function on 1402 iteration. Alpha 0.004742424242424242, lost: 45.938499057291025\n",
      "1402 [47.18924737  3.91863527] 45.938499057291025\n",
      "**************************************************\n",
      "Reached stability value of lost function on 1143 iteration. Alpha 0.005903030303030303, lost: 45.93830705205412\n",
      "1143 [47.19363581  3.91782491] 45.93830705205412\n",
      "**************************************************\n",
      "Reached stability value of lost function on 967 iteration. Alpha 0.007063636363636363, lost: 45.93817238212367\n",
      "967 [47.19703779  3.91719671] 45.93817238212367\n",
      "**************************************************\n",
      "Reached stability value of lost function on 839 iteration. Alpha 0.008224242424242424, lost: 45.938076397887244\n",
      "839 [47.19967941  3.91670891] 45.938076397887244\n",
      "**************************************************\n",
      "Reached stability value of lost function on 742 iteration. Alpha 0.009384848484848484, lost: 45.938000447964356\n",
      "742 [47.20193054  3.91629322] 45.938000447964356\n",
      "**************************************************\n",
      "Reached stability value of lost function on 665 iteration. Alpha 0.010545454545454544, lost: 45.93794756763533\n",
      "665 [47.20360612  3.91598381] 45.93794756763533\n",
      "**************************************************\n",
      "Reached stability value of lost function on 603 iteration. Alpha 0.011706060606060605, lost: 45.93790285912262\n",
      "603 [47.20510195  3.9157076 ] 45.93790285912262\n",
      "**************************************************\n",
      "Reached stability value of lost function on 552 iteration. Alpha 0.012866666666666665, lost: 45.937864381246264\n",
      "552 [47.20645713  3.91545735] 45.937864381246264\n",
      "**************************************************\n",
      "Reached stability value of lost function on 509 iteration. Alpha 0.014027272727272725, lost: 45.93783381943133\n",
      "509 [47.20758796  3.91524854] 45.93783381943133\n",
      "**************************************************\n",
      "Reached stability value of lost function on 473 iteration. Alpha 0.015187878787878787, lost: 45.93780164702987\n",
      "473 [47.20882978  3.91501922] 45.93780164702987\n",
      "**************************************************\n",
      "Reached stability value of lost function on 441 iteration. Alpha 0.01634848484848485, lost: 45.937783127388684\n",
      "441 [47.20958446  3.91487987] 45.937783127388684\n",
      "**************************************************\n",
      "Reached stability value of lost function on 414 iteration. Alpha 0.017509090909090908, lost: 45.93775842663313\n",
      "414 [47.2106174   3.91468913] 45.93775842663313\n",
      "**************************************************\n",
      "Reached stability value of lost function on 389 iteration. Alpha 0.018669696969696968, lost: 45.937748740761215\n",
      "389 [47.21105059  3.91460913] 45.937748740761215\n",
      "**************************************************\n",
      "Reached stability value of lost function on 368 iteration. Alpha 0.019830303030303028, lost: 45.93772893115467\n",
      "368 [47.21193281  3.91444623] 45.93772893115467\n",
      "**************************************************\n",
      "Reached stability value of lost function on 349 iteration. Alpha 0.020990909090909088, lost: 45.93771369434948\n",
      "349 [47.212641    3.91431545] 45.93771369434948\n",
      "**************************************************\n",
      "Reached stability value of lost function on 331 iteration. Alpha 0.02215151515151515, lost: 45.937708881463415\n",
      "331 [47.21288565  3.91427028] 45.937708881463415\n",
      "**************************************************\n",
      "Reached stability value of lost function on 316 iteration. Alpha 0.02331212121212121, lost: 45.93769242083273\n",
      "316 [47.21368282  3.91412307] 45.93769242083273\n",
      "**************************************************\n",
      "Reached stability value of lost function on 302 iteration. Alpha 0.02447272727272727, lost: 45.93768114358966\n",
      "302 [47.21425408  3.91401758] 45.93768114358966\n",
      "**************************************************\n",
      "Reached stability value of lost function on 289 iteration. Alpha 0.02563333333333333, lost: 45.93767299864586\n",
      "289 [47.21468253  3.91393847] 45.93767299864586\n",
      "**************************************************\n",
      "Reached stability value of lost function on 277 iteration. Alpha 0.02679393939393939, lost: 45.9376663924579\n",
      "277 [47.21504038  3.91387239] 45.9376663924579\n",
      "**************************************************\n",
      "Reached stability value of lost function on 266 iteration. Alpha 0.02795454545454545, lost: 45.93765999642039\n",
      "266 [47.21539313  3.91380725] 45.93765999642039\n",
      "**************************************************\n",
      "Reached stability value of lost function on 256 iteration. Alpha 0.029115151515151514, lost: 45.937652678964795\n",
      "256 [47.21580097  3.91373194] 45.937652678964795\n",
      "**************************************************\n",
      "Reached stability value of lost function on 247 iteration. Alpha 0.030275757575757574, lost: 45.93764352883475\n",
      "247 [47.21631794  3.91363648] 45.93764352883475\n",
      "**************************************************\n",
      "Reached stability value of lost function on 238 iteration. Alpha 0.03143636363636364, lost: 45.93764100897225\n",
      "238 [47.21647702  3.9136071 ] 45.93764100897225\n",
      "**************************************************\n",
      "Reached stability value of lost function on 230 iteration. Alpha 0.0325969696969697, lost: 45.9376351411008\n",
      "230 [47.21682557  3.91354274] 45.9376351411008\n",
      "**************************************************\n",
      "Reached stability value of lost function on 222 iteration. Alpha 0.03375757575757576, lost: 45.937634702576176\n",
      "222 [47.21686954  3.91353462] 45.937634702576176\n",
      "**************************************************\n",
      "Reached stability value of lost function on 215 iteration. Alpha 0.03491818181818182, lost: 45.9376296943607\n",
      "215 [47.2171749   3.91347823] 45.9376296943607\n",
      "**************************************************\n",
      "Reached stability value of lost function on 209 iteration. Alpha 0.03607878787878788, lost: 45.937619726376695\n",
      "209 [47.21777961  3.91336657] 45.937619726376695\n",
      "**************************************************\n",
      "Reached stability value of lost function on 203 iteration. Alpha 0.03723939393939394, lost: 45.93761382607643\n",
      "203 [47.21815556  3.91329715] 45.93761382607643\n",
      "**************************************************\n",
      "Reached stability value of lost function on 197 iteration. Alpha 0.038400000000000004, lost: 45.937611455312634\n",
      "197 [47.21831937  3.9132669 ] 45.937611455312634\n",
      "**************************************************\n",
      "Reached stability value of lost function on 191 iteration. Alpha 0.03956060606060606, lost: 45.93761240635033\n",
      "191 [47.21827797  3.91327454] 45.93761240635033\n",
      "**************************************************\n",
      "Reached stability value of lost function on 186 iteration. Alpha 0.04072121212121212, lost: 45.937607092174\n",
      "186 [47.21862671  3.91321015] 45.937607092174\n",
      "**************************************************\n",
      "Reached stability value of lost function on 181 iteration. Alpha 0.04188181818181818, lost: 45.93760457152495\n",
      "181 [47.21880355  3.91317749] 45.93760457152495\n",
      "**************************************************\n",
      "Reached stability value of lost function on 177 iteration. Alpha 0.04304242424242424, lost: 45.937595500995016\n",
      "177 [47.21941128  3.91306527] 45.937595500995016\n",
      "**************************************************\n",
      "Reached stability value of lost function on 172 iteration. Alpha 0.044203030303030307, lost: 45.93759772451879\n",
      "172 [47.21928019  3.91308948] 45.93759772451879\n",
      "**************************************************\n",
      "Reached stability value of lost function on 168 iteration. Alpha 0.04536363636363636, lost: 45.93759306352939\n",
      "168 [47.21960656  3.91302921] 45.93759306352939\n",
      "**************************************************\n",
      "Reached stability value of lost function on 164 iteration. Alpha 0.046524242424242426, lost: 45.93759039035179\n",
      "164 [47.21980357  3.91299283] 45.93759039035179\n",
      "**************************************************\n",
      "Reached stability value of lost function on 160 iteration. Alpha 0.04768484848484848, lost: 45.937589546242535\n",
      "160 [47.21987689  3.91297929] 45.937589546242535\n",
      "**************************************************\n",
      "Reached stability value of lost function on 156 iteration. Alpha 0.048845454545454546, lost: 45.93759048395983\n",
      "156 [47.21982849  3.91298823] 45.93759048395983\n",
      "**************************************************\n",
      "Reached stability value of lost function on 153 iteration. Alpha 0.05000606060606061, lost: 45.93758381697873\n",
      "153 [47.22030591  3.91290007] 45.93758381697873\n",
      "**************************************************\n",
      "Reached stability value of lost function on 150 iteration. Alpha 0.051166666666666666, lost: 45.93757879726699\n",
      "150 [47.22068044  3.91283091] 45.93757879726699\n",
      "**************************************************\n",
      "Reached stability value of lost function on 146 iteration. Alpha 0.05232727272727273, lost: 45.93758408420255\n",
      "146 [47.22031724  3.91289798] 45.93758408420255\n",
      "**************************************************\n",
      "Reached stability value of lost function on 143 iteration. Alpha 0.053487878787878786, lost: 45.93758163506287\n",
      "143 [47.22050561  3.91286319] 45.93758163506287\n",
      "**************************************************\n",
      "Reached stability value of lost function on 140 iteration. Alpha 0.05464848484848485, lost: 45.93758044438996\n",
      "140 [47.22060555  3.91284474] 45.93758044438996\n",
      "**************************************************\n",
      "Reached stability value of lost function on 138 iteration. Alpha 0.055809090909090905, lost: 45.937571393498054\n",
      "138 [47.22128785  3.91271875] 45.937571393498054\n",
      "**************************************************\n",
      "Reached stability value of lost function on 135 iteration. Alpha 0.05696969696969697, lost: 45.937572296034574\n",
      "135 [47.22123345  3.91272879] 45.937572296034574\n",
      "**************************************************\n",
      "Reached stability value of lost function on 132 iteration. Alpha 0.05813030303030303, lost: 45.937574312607396\n",
      "132 [47.22109653  3.91275407] 45.937574312607396\n",
      "**************************************************\n",
      "Reached stability value of lost function on 130 iteration. Alpha 0.05929090909090909, lost: 45.93756827241801\n",
      "130 [47.22156857  3.91266691] 45.93756827241801\n",
      "**************************************************\n",
      "Reached stability value of lost function on 127 iteration. Alpha 0.06045151515151515, lost: 45.93757212688144\n",
      "127 [47.22128815  3.91271869] 45.93757212688144\n",
      "**************************************************\n",
      "Reached stability value of lost function on 125 iteration. Alpha 0.06161212121212121, lost: 45.93756775951046\n",
      "125 [47.22163545  3.91265451] 45.93756775951046\n",
      "**************************************************\n",
      "Reached stability value of lost function on 123 iteration. Alpha 0.06277272727272727, lost: 45.93756429168533\n",
      "123 [47.22191944  3.91259218] 45.93756429168533\n",
      "**************************************************\n",
      "Reached stability value of lost function on 124 iteration. Alpha 0.06393333333333333, lost: 45.93756065979911\n",
      "124 [47.22420671  3.91326374] 45.93756065979911\n",
      "**************************************************\n",
      "Reached stability value of lost function on 222 iteration. Alpha 0.0650939393939394, lost: 45.93762532799692\n",
      "222 [47.23263991  3.91344634] 45.93762532799692\n",
      "**************************************************\n"
     ]
    },
    {
     "name": "stdout",
     "output_type": "stream",
     "text": [
      "Reached stability value of lost function on 3858 iteration. Alpha 0.06625454545454545, lost: 45.94034807660718\n",
      "3858 [47.23463401  3.92420493] 45.94034807660718\n",
      "**************************************************\n",
      "Reached 10000 iterations. Alpha 0.06741515151515151 Lost: 2.7984936211245813e+287, Previous lost: 2.6212511222189855e+287\n",
      "9999 [-2.55596036e+142 -1.38416164e+143] 2.7984936211245813e+287\n",
      "**************************************************\n"
     ]
    },
    {
     "name": "stderr",
     "output_type": "stream",
     "text": [
      "C:\\Users\\vladimir\\Anaconda3\\lib\\site-packages\\numpy\\core\\_methods.py:75: RuntimeWarning: overflow encountered in reduce\n",
      "  ret = umr_sum(arr, axis, dtype, out, keepdims)\n",
      "C:\\Users\\vladimir\\Anaconda3\\lib\\site-packages\\ipykernel_launcher.py:19: RuntimeWarning: invalid value encountered in double_scalars\n",
      "C:\\Users\\vladimir\\Anaconda3\\lib\\site-packages\\ipykernel_launcher.py:2: RuntimeWarning: overflow encountered in square\n",
      "  \n"
     ]
    },
    {
     "name": "stdout",
     "output_type": "stream",
     "text": [
      "Reached 10000 iterations. Alpha 0.06857575757575758 Lost: inf, Previous lost: inf\n",
      "9999 [-1.25440754e+287 -6.79315231e+287] inf\n",
      "**************************************************\n"
     ]
    },
    {
     "name": "stderr",
     "output_type": "stream",
     "text": [
      "C:\\Users\\vladimir\\Anaconda3\\lib\\site-packages\\numpy\\core\\fromnumeric.py:86: RuntimeWarning: overflow encountered in reduce\n",
      "  return ufunc.reduce(obj, axis, dtype, out, **passkwargs)\n"
     ]
    },
    {
     "name": "stdout",
     "output_type": "stream",
     "text": [
      "Reached 10000 iterations. Alpha 0.06973636363636364 Lost: nan, Previous lost: nan\n",
      "9999 [nan nan] nan\n",
      "**************************************************\n",
      "Reached 10000 iterations. Alpha 0.0708969696969697 Lost: nan, Previous lost: nan\n",
      "9999 [nan nan] nan\n",
      "**************************************************\n",
      "Reached 10000 iterations. Alpha 0.07205757575757575 Lost: nan, Previous lost: nan\n",
      "9999 [nan nan] nan\n",
      "**************************************************\n",
      "Reached 10000 iterations. Alpha 0.07321818181818182 Lost: nan, Previous lost: nan\n",
      "9999 [nan nan] nan\n",
      "**************************************************\n",
      "Reached 10000 iterations. Alpha 0.07437878787878788 Lost: nan, Previous lost: nan\n",
      "9999 [nan nan] nan\n",
      "**************************************************\n",
      "Reached 10000 iterations. Alpha 0.07553939393939393 Lost: nan, Previous lost: nan\n",
      "9999 [nan nan] nan\n",
      "**************************************************\n",
      "Reached 10000 iterations. Alpha 0.0767 Lost: nan, Previous lost: nan\n",
      "9999 [nan nan] nan\n",
      "**************************************************\n",
      "Reached 10000 iterations. Alpha 0.07786060606060606 Lost: nan, Previous lost: nan\n",
      "9999 [nan nan] nan\n",
      "**************************************************\n",
      "Reached 10000 iterations. Alpha 0.07902121212121212 Lost: nan, Previous lost: nan\n",
      "9999 [nan nan] nan\n",
      "**************************************************\n",
      "Reached 10000 iterations. Alpha 0.08018181818181817 Lost: nan, Previous lost: nan\n",
      "9999 [nan nan] nan\n",
      "**************************************************\n",
      "Reached 10000 iterations. Alpha 0.08134242424242424 Lost: nan, Previous lost: nan\n",
      "9999 [nan nan] nan\n",
      "**************************************************\n",
      "Reached 10000 iterations. Alpha 0.0825030303030303 Lost: nan, Previous lost: nan\n",
      "9999 [nan nan] nan\n",
      "**************************************************\n",
      "Reached 10000 iterations. Alpha 0.08366363636363636 Lost: nan, Previous lost: nan\n",
      "9999 [nan nan] nan\n",
      "**************************************************\n",
      "Reached 10000 iterations. Alpha 0.08482424242424243 Lost: nan, Previous lost: nan\n",
      "9999 [nan nan] nan\n",
      "**************************************************\n",
      "Reached 10000 iterations. Alpha 0.08598484848484848 Lost: nan, Previous lost: nan\n",
      "9999 [nan nan] nan\n",
      "**************************************************\n",
      "Reached 10000 iterations. Alpha 0.08714545454545454 Lost: nan, Previous lost: nan\n",
      "9999 [nan nan] nan\n",
      "**************************************************\n",
      "Reached 10000 iterations. Alpha 0.08830606060606061 Lost: nan, Previous lost: nan\n",
      "9999 [nan nan] nan\n",
      "**************************************************\n"
     ]
    },
    {
     "name": "stderr",
     "output_type": "stream",
     "text": [
      "C:\\Users\\vladimir\\Anaconda3\\lib\\site-packages\\ipykernel_launcher.py:11: RuntimeWarning: overflow encountered in multiply\n",
      "  # This is added back by InteractiveShellApp.init_path()\n"
     ]
    },
    {
     "name": "stdout",
     "output_type": "stream",
     "text": [
      "Reached 10000 iterations. Alpha 0.08946666666666667 Lost: nan, Previous lost: nan\n",
      "9999 [nan nan] nan\n",
      "**************************************************\n",
      "Reached 10000 iterations. Alpha 0.09062727272727272 Lost: nan, Previous lost: nan\n",
      "9999 [nan nan] nan\n",
      "**************************************************\n",
      "Reached 10000 iterations. Alpha 0.09178787878787878 Lost: nan, Previous lost: nan\n",
      "9999 [nan nan] nan\n",
      "**************************************************\n",
      "Reached 10000 iterations. Alpha 0.09294848484848485 Lost: nan, Previous lost: nan\n",
      "9999 [nan nan] nan\n",
      "**************************************************\n",
      "Reached 10000 iterations. Alpha 0.0941090909090909 Lost: nan, Previous lost: nan\n",
      "9999 [nan nan] nan\n",
      "**************************************************\n",
      "Reached 10000 iterations. Alpha 0.09526969696969696 Lost: nan, Previous lost: nan\n",
      "9999 [nan nan] nan\n",
      "**************************************************\n",
      "Reached 10000 iterations. Alpha 0.09643030303030303 Lost: nan, Previous lost: nan\n",
      "9999 [nan nan] nan\n",
      "**************************************************\n",
      "Reached 10000 iterations. Alpha 0.09759090909090909 Lost: nan, Previous lost: nan\n",
      "9999 [nan nan] nan\n",
      "**************************************************\n",
      "Reached 10000 iterations. Alpha 0.09875151515151515 Lost: nan, Previous lost: nan\n",
      "9999 [nan nan] nan\n",
      "**************************************************\n",
      "Reached 10000 iterations. Alpha 0.09991212121212122 Lost: nan, Previous lost: nan\n",
      "9999 [nan nan] nan\n",
      "**************************************************\n",
      "Reached 10000 iterations. Alpha 0.10107272727272727 Lost: nan, Previous lost: nan\n",
      "9999 [nan nan] nan\n",
      "**************************************************\n",
      "Reached 10000 iterations. Alpha 0.10223333333333333 Lost: nan, Previous lost: nan\n",
      "9999 [nan nan] nan\n",
      "**************************************************\n",
      "Reached 10000 iterations. Alpha 0.10339393939393939 Lost: nan, Previous lost: nan\n",
      "9999 [nan nan] nan\n",
      "**************************************************\n",
      "Reached 10000 iterations. Alpha 0.10455454545454546 Lost: nan, Previous lost: nan\n",
      "9999 [nan nan] nan\n",
      "**************************************************\n",
      "Reached 10000 iterations. Alpha 0.10571515151515151 Lost: nan, Previous lost: nan\n",
      "9999 [nan nan] nan\n",
      "**************************************************\n",
      "Reached 10000 iterations. Alpha 0.10687575757575757 Lost: nan, Previous lost: nan\n",
      "9999 [nan nan] nan\n",
      "**************************************************\n",
      "Reached 10000 iterations. Alpha 0.10803636363636364 Lost: nan, Previous lost: nan\n",
      "9999 [nan nan] nan\n",
      "**************************************************\n",
      "Reached 10000 iterations. Alpha 0.1091969696969697 Lost: nan, Previous lost: nan\n",
      "9999 [nan nan] nan\n",
      "**************************************************\n",
      "Reached 10000 iterations. Alpha 0.11035757575757575 Lost: nan, Previous lost: nan\n",
      "9999 [nan nan] nan\n",
      "**************************************************\n",
      "Reached 10000 iterations. Alpha 0.11151818181818181 Lost: nan, Previous lost: nan\n",
      "9999 [nan nan] nan\n",
      "**************************************************\n",
      "Reached 10000 iterations. Alpha 0.11267878787878788 Lost: nan, Previous lost: nan\n",
      "9999 [nan nan] nan\n",
      "**************************************************\n",
      "Reached 10000 iterations. Alpha 0.11383939393939393 Lost: nan, Previous lost: nan\n",
      "9999 [nan nan] nan\n",
      "**************************************************\n",
      "Reached 10000 iterations. Alpha 0.115 Lost: nan, Previous lost: nan\n",
      "9999 [nan nan] nan\n",
      "**************************************************\n"
     ]
    }
   ],
   "source": [
    "test_alpha = []\n",
    "test_iterations = []\n",
    "err_last = 1e+10 # Инициализация переменной для хранения предыдущего значения функции потерь\n",
    "eps = 1e-5 # Точность\n",
    "for alpha in np.linspace(1e-4, 0.115, 100): # Перебираем скорость градиентного спуска\n",
    "    W = np.array([1, 0.5])\n",
    "    for i in range(10000):\n",
    "      y_pred = np.dot(W, X)\n",
    "      err = calc_mse(y, y_pred)\n",
    "      for ii in range(W.shape[0]):\n",
    "        W[ii] -= alpha * (1/len(y) * 2 * np.sum(X[ii] * (y_pred - y)))\n",
    "#       if i % 1000 == 0:\n",
    "#         print(i, W, err)\n",
    "      if i == 9999: # Если достигнули конца i\n",
    "        print(f\"Reached 10000 iterations. Alpha {alpha} Lost: {err}, Previous lost: {err_last}\")\n",
    "        print(i, W, err)\n",
    "        print(\"*\" * 50)\n",
    "        break\n",
    "      if np.abs(err_last - err) < eps: # Если изменение значения функции потерь меньше точности\n",
    "        print(f\"Reached stability value of lost function on {i} iteration. Alpha {alpha}, lost: {err}\")\n",
    "        print(i, W, err)\n",
    "        print(\"*\" * 50)\n",
    "        break\n",
    "        \n",
    "      err_last = err\n",
    "    test_alpha.append(alpha)\n",
    "    test_iterations.append(i)\n",
    "        "
   ]
  },
  {
   "cell_type": "code",
   "execution_count": 47,
   "metadata": {},
   "outputs": [
    {
     "data": {
      "text/plain": [
       "[<matplotlib.lines.Line2D at 0x22b668efa48>]"
      ]
     },
     "execution_count": 47,
     "metadata": {},
     "output_type": "execute_result"
    },
    {
     "data": {
      "image/png": "[encoded data removed]",
      "text/plain": [
       "<Figure size 432x288 with 1 Axes>"
      ]
     },
     "metadata": {
      "needs_background": "light"
     },
     "output_type": "display_data"
    }
   ],
   "source": [
    "plt.plot(test_alpha, test_iterations)"
   ]
  },
  {
   "cell_type": "markdown",
   "metadata": {},
   "source": [
    "Подобный метод перебора будет неэффективен на больших выборках но для этой задачи подошёл отлично.\n",
    "Перебрав различные значения скорости спуска, было обнаружено, что при незначительном увеличении значения альфа\n",
    "cкорость сходимости алгоритма сильно вырастает при изменени от 0.001 до 0.007, далее изменяется не так быстро и при значении 0.0639 достигает своего минимума, сходимость достигается за 192 итерации. Далее происходит резкое увеличение числа итераций из-за того, что при больших альфа алгоритм не может достигнуть экстремума, проскакивает мимо него. При значениях выше 0.06741 сходимость за условный максимум количества итераций (10000) не происходит.\n",
    "Оптимальным будет значаение 0.061 и количество итераций 200 (для этого набора и для точности 1e-9. \n",
    "С понижением точности количество итераций незначительно уменьшается."
   ]
  },
  {
   "cell_type": "code",
   "execution_count": 44,
   "metadata": {},
   "outputs": [],
   "source": [
    "W = np. array([47.2321422 ,  3.91071213])\n"
   ]
  },
  {
   "cell_type": "code",
   "execution_count": 45,
   "metadata": {},
   "outputs": [
    {
     "data": {
      "text/plain": [
       "<matplotlib.legend.Legend at 0x22b66fba0c8>"
      ]
     },
     "execution_count": 45,
     "metadata": {},
     "output_type": "execute_result"
    },
    {
     "data": {
      "image/png": "[encoded data removed]",
      "text/plain": [
       "<Figure size 432x288 with 1 Axes>"
      ]
     },
     "metadata": {
      "needs_background": "light"
     },
     "output_type": "display_data"
    }
   ],
   "source": [
    "plt.scatter(X[1,:], y)\n",
    "plt.plot(X[1], W[0] + W[1] * X[1], label=f'y = {W[0]:.4f} + {W[1]:.4f}* x')\n",
    "plt.legend()\n"
   ]
  },
  {
   "cell_type": "code",
   "execution_count": 46,
   "metadata": {},
   "outputs": [
    {
     "name": "stdout",
     "output_type": "stream",
     "text": [
      "0 [ 7.7222 21.24  ] 3173.15\n",
      "100 [47.17323831  3.92159172] 45.939626611300376\n",
      "200 [47.23205885  3.9107298 ] 45.937500004325656\n"
     ]
    }
   ],
   "source": [
    "n = X.shape[1]\n",
    "alpha = 0.061\n",
    "W = np.array([1, 0.5])\n",
    "for i in range(201):\n",
    "  y_pred = np.dot(W, X)\n",
    "  err = calc_mse(y, y_pred)\n",
    "  W -= (alpha * (1/n * 2 * np.sum(X * (y_pred - y), axis=1  ))) # Добавлено axis=1 в сумме, чтобы получить 2 измерения\n",
    "  if i % 100 == 0:\n",
    "    print(i, W, err)\n",
    "W"
   ]
  }
 ],
 "metadata": {
  "kernelspec": {
   "display_name": "Python 3",
   "language": "python",
   "name": "python3"
  },
  "language_info": {
   "codemirror_mode": {
    "name": "ipython",
    "version": 3
   },
   "file_extension": ".py",
   "mimetype": "text/x-python",
   "name": "python",
   "nbconvert_exporter": "python",
   "pygments_lexer": "ipython3",
   "version": "3.7.4"
  }
 },
 "nbformat": 4,
 "nbformat_minor": 2
}
