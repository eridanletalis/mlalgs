{
 "cells": [
  {
   "cell_type": "markdown",
   "metadata": {},
   "source": [
    "Задание 3* реализовал в алгоритме \"подбора\" альфы, в алгоритм 2 его встраивать не имело смысла, т.к. необходимые значения уже найдены. Условие прекращения np.abs(err_last - err) < eps, настраивается изменением значения eps. \n"
   ]
  },
  {
   "cell_type": "code",
   "execution_count": 50,
   "metadata": {},
   "outputs": [],
   "source": [
    "\n",
    "\n",
    "import numpy as np\n",
    "import matplotlib.pyplot as plt\n"
   ]
  },
  {
   "cell_type": "code",
   "execution_count": 51,
   "metadata": {},
   "outputs": [],
   "source": [
    "def calc_mse(y, y_pred):\n",
    "  err = np.mean((y - y_pred)**2)\n",
    "  return err\n",
    "\n",
    "def calc_mae(y, y_pred):\n",
    "  err = np.mean(np.abs(y - y_pred))\n",
    "  return err"
   ]
  },
  {
   "cell_type": "code",
   "execution_count": 52,
   "metadata": {},
   "outputs": [],
   "source": [
    "X = np.array([[1, 1, 1, 1, 1, 1, 1, 1, 1, 1],\n",
    "              [1, 1, 2, 1, 3, 0, 5, 10, 1, 2]])\n",
    "y = [45, 55, 50, 59, 65, 35, 75, 80, 50, 60]"
   ]
  },
  {
   "cell_type": "code",
   "execution_count": 53,
   "metadata": {},
   "outputs": [
    {
     "name": "stderr",
     "output_type": "stream",
     "text": [
      "C:\\Users\\vladimir\\Anaconda3\\lib\\site-packages\\ipykernel_launcher.py:19: RuntimeWarning: invalid value encountered in double_scalars\n",
      "C:\\Users\\vladimir\\Anaconda3\\lib\\site-packages\\ipykernel_launcher.py:2: RuntimeWarning: overflow encountered in square\n",
      "  \n",
      "C:\\Users\\vladimir\\Anaconda3\\lib\\site-packages\\ipykernel_launcher.py:11: RuntimeWarning: overflow encountered in multiply\n",
      "  # This is added back by InteractiveShellApp.init_path()\n"
     ]
    }
   ],
   "source": [
    "test_alpha = []\n",
    "test_iterations = []\n",
    "err_last = 1e+10 # Инициализация переменной для хранения предыдущего значения функции потерь\n",
    "eps = 1e-5 # Точность\n",
    "for alpha in np.linspace(1e-4, 0.115, 100): # Перебираем скорость градиентного спуска\n",
    "    W = np.array([1, 0.5])\n",
    "    for i in range(10000):\n",
    "      y_pred = np.dot(W, X)\n",
    "      err = calc_mse(y, y_pred)\n",
    "      for ii in range(W.shape[0]):\n",
    "        W[ii] -= alpha * (1/len(y) * 2 * np.sum(X[ii] * (y_pred - y)))\n",
    "#       if i % 1000 == 0:\n",
    "#         print(i, W, err)\n",
    "      if i == 9999: # Если достигнули конца i\n",
    "        # print(f\"Reached 10000 iterations. Alpha {alpha} Lost: {err}, Previous lost: {err_last}\")\n",
    "        # print(i, W, err)\n",
    "        # print(\"*\" * 50)\n",
    "        break\n",
    "      if np.abs(err_last - err) < eps: # Если изменение значения функции потерь меньше точности\n",
    "        # print(f\"Reached stability value of lost function on {i} iteration. Alpha {alpha}, lost: {err}\")\n",
    "        # print(i, W, err)\n",
    "        # print(\"*\" * 50)\n",
    "        break\n",
    "        \n",
    "      err_last = err\n",
    "    test_alpha.append(alpha)\n",
    "    test_iterations.append(i)\n",
    "        "
   ]
  },
  {
   "cell_type": "code",
   "execution_count": 54,
   "metadata": {},
   "outputs": [
    {
     "data": {
      "text/plain": [
       "[<matplotlib.lines.Line2D at 0x22b66f6b988>]"
      ]
     },
     "execution_count": 54,
     "metadata": {},
     "output_type": "execute_result"
    },
    {
     "data": {
      "image/png": "[encoded data removed]",
      "text/plain": [
       "<Figure size 432x288 with 1 Axes>"
      ]
     },
     "metadata": {
      "needs_background": "light"
     },
     "output_type": "display_data"
    }
   ],
   "source": [
    "plt.plot(test_alpha, test_iterations)"
   ]
  },
  {
   "cell_type": "markdown",
   "metadata": {},
   "source": [
    "Подобный метод перебора будет неэффективен на больших выборках но для этой задачи подошёл отлично.\n",
    "Перебрав различные значения скорости спуска, было обнаружено, что при незначительном увеличении значения альфа\n",
    "cкорость сходимости алгоритма сильно вырастает при изменени от 0.001 до 0.007, далее изменяется не так быстро и при значении 0.0639 достигает своего минимума, сходимость достигается за 192 итерации. Далее происходит резкое увеличение числа итераций из-за того, что при больших альфа алгоритм не может достигнуть экстремума, проскакивает мимо него. При значениях выше 0.06741 сходимость за условный максимум количества итераций (10000) не происходит.\n",
    "Оптимальным будет значаение 0.061 и количество итераций 200 (для этого набора и для точности 1e-9. \n",
    "С понижением точности количество итераций незначительно уменьшается."
   ]
  },
  {
   "cell_type": "code",
   "execution_count": 55,
   "metadata": {},
   "outputs": [],
   "source": [
    "W = np. array([47.2321422 ,  3.91071213])\n"
   ]
  },
  {
   "cell_type": "code",
   "execution_count": 56,
   "metadata": {},
   "outputs": [
    {
     "data": {
      "text/plain": [
       "<matplotlib.legend.Legend at 0x22b65cc85c8>"
      ]
     },
     "execution_count": 56,
     "metadata": {},
     "output_type": "execute_result"
    },
    {
     "data": {
      "image/png": "[encoded data removed]",
      "text/plain": [
       "<Figure size 432x288 with 1 Axes>"
      ]
     },
     "metadata": {
      "needs_background": "light"
     },
     "output_type": "display_data"
    }
   ],
   "source": [
    "plt.scatter(X[1,:], y)\n",
    "plt.plot(X[1], W[0] + W[1] * X[1], label=f'y = {W[0]:.4f} + {W[1]:.4f}* x')\n",
    "plt.legend()\n"
   ]
  },
  {
   "cell_type": "code",
   "execution_count": 57,
   "metadata": {},
   "outputs": [
    {
     "name": "stdout",
     "output_type": "stream",
     "text": [
      "0 [ 7.7222 21.24  ] 3173.15\n",
      "100 [47.17323831  3.92159172] 45.939626611300376\n",
      "200 [47.23205885  3.9107298 ] 45.937500004325656\n"
     ]
    },
    {
     "data": {
      "text/plain": [
       "array([47.23205885,  3.9107298 ])"
      ]
     },
     "execution_count": 57,
     "metadata": {},
     "output_type": "execute_result"
    }
   ],
   "source": [
    "n = X.shape[1]\n",
    "alpha = 0.061\n",
    "W = np.array([1, 0.5])\n",
    "for i in range(201):\n",
    "  y_pred = np.dot(W, X)\n",
    "  err = calc_mse(y, y_pred)\n",
    "  W -= (alpha * (1/n * 2 * np.sum(X * (y_pred - y), axis=1  ))) # Добавлено axis=1 в сумме, чтобы получить 2 измерения\n",
    "  if i % 100 == 0:\n",
    "    print(i, W, err)\n",
    "W"
   ]
  },
  {
   "cell_type": "code",
   "execution_count": null,
   "metadata": {},
   "outputs": [],
   "source": []
  }
 ],
 "metadata": {
  "kernelspec": {
   "display_name": "Python 3",
   "language": "python",
   "name": "python3"
  },
  "language_info": {
   "codemirror_mode": {
    "name": "ipython",
    "version": 3
   },
   "file_extension": ".py",
   "mimetype": "text/x-python",
   "name": "python",
   "nbconvert_exporter": "python",
   "pygments_lexer": "ipython3",
   "version": "3.7.4"
  }
 },
 "nbformat": 4,
 "nbformat_minor": 2
}
